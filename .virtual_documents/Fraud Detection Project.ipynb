import numpy as np
import pandas as pd
import matplotlib.pyplot as plt
import seaborn as sns



ds=pd.read_csv("fraud.csv")


ds.head()


ds.tail()


ds.describe()


ds.info()


ds.isnull()


ds.isnull().sum()


ds.duplicated()


ds.duplicated().sum()


ds.shape


ds["isFraud"].value_counts()


ds["isFlaggedFraud"].value_counts()


round((ds["isFraud"].value_counts()[1]/ds.shape[0])*100, 2)


ds['type'].value_counts().plot(kind="bar")
plt.xlabel("Transaction Type")
plt.ylabel("count")
plt.title("Transaction Types")
plt.tight_layout()
plt.legend()
plt.show()


Fraud_type=ds.groupby("type")["isFraud"].mean().sort_values(ascending=False)
Fraud_type.plot(kind="bar" )
plt.ylabel("Fraud Rate")
plt.xlabel("Type")
plt.title("Fraud Rate by Type")
plt.tight_layout()
plt.legend()
plt.show()


ds["amount"].describe().astype(int)


sns.histplot(np.log1p(ds["amount"]), bins=100 , kde=True, color="red")
plt.title("Transaction Amount Distribution(log)")
plt.xlabel("Log(Amount + 1)")
plt.show()


sns.boxplot(data=ds[ds["amount"]<50000],x="isFraud", y="amount")
plt.title("Amount vs isFraud(Amount less than 50000)")
plt.show()


ds["OrigDiff"]=ds["oldbalanceOrg"]-ds["newbalanceOrig"]
ds["DestDiff"]=ds["newbalanceDest"]-ds["oldbalanceDest"]


(ds["OrigDiff"]<0).sum()


(ds["DestDiff"]<0).sum()


ds.head(5)


frauds_per_step=ds[ds["isFraud"]==1]["step"].value_counts().sort_index()
plt.plot(frauds_per_step.index, frauds_per_step.values, label="Frauds per Step")
plt.xlabel("Step(Time)")
plt.ylabel("NUmber of Frouds")
plt.title("Frauds Over Time")
plt.grid(True)
plt.tight_layout()
plt.show()


ds.drop(columns="step", inplace=True)


ds.head()


ds 


top_sender=ds["nameOrig"].value_counts().head(10)


top_sender


top_receivers=ds["nameDest"].value_counts().head(10)


top_receivers


fraud_users=ds[ds["isFraud"]==1]["nameOrig"].value_counts().head(10)


fraud_users


fraud_types=ds[ds["type"].isin(["TRANSFER","CASH_OUT"])]


fraud_types.head()


fraud_types["type"].value_counts()


sns.countplot(data=fraud_types, x="type", hue="isFraud" )
plt.title("Fraud Distribution in Transfer & Cash_out")
plt.show()


corr=ds[["amount","oldbalanceOrg","newbalanceOrig","newbalanceDest","oldbalanceDest","isFraud"]].corr()


corr


sns.heatmap(corr,annot=True,cmap="coolwarm", fmt=".2f")
plt.title("Correlation Matrix")
plt.show()


zero_after_transfer=ds[(ds["oldbalanceOrg"]>0) & (ds["newbalanceOrig"]==0) & (ds["type"].isin(["TRANSFER","CASH_OUT"]))]


len(zero_after_transfer)


zero_after_transfer.head()


ds["isFraud"].value_counts()


from sklearn.model_selection import train_test_split
from sklearn.preprocessing import StandardScaler
from sklearn.linear_model import LogisticRegression
from sklearn.metrics import classification_report, confusion_matrix
from sklearn.pipeline import Pipeline
from sklearn.compose import ColumnTransformer
from sklearn.preprocessing import OneHotEncoder


ds.head()


ds_model=ds.drop(["nameOrig","nameDest","isFlaggedFraud"], axis=1)


ds_model.head()


categorical = ["type"]
numeric= ["amount", "oldbalanceOrg","newbalanceOrig","oldbalanceDest","newbalanceDest"]


y = ds_model["isFraud"]
X=ds_model.drop("isFraud", axis= 1)


X_train, X_test, y_train,y_test = train_test_split(X,y,test_size=0.3, stratify=y )


preprocessor = ColumnTransformer(
    transformers= [
        ("num", StandardScaler(), numeric),
        ("cat", OneHotEncoder(drop="first"), categorical)
    ],
    remainder="drop"
)


pipeline=Pipeline(
    [
        ("prep",preprocessor),
        ("clf",LogisticRegression(class_weight="balanced",max_iter=1000))
    ]
)


pipeline.fit(X_train,y_train)


y_pred= pipeline.predict(X_test)


print(classification_report(y_test,y_pred))


confusion_matrix(y_test,y_pred)


pipeline.score(X_test,y_test)*100


import joblib 

joblib.dump(pipeline, "fraud_detection_pipeline.pkl")



